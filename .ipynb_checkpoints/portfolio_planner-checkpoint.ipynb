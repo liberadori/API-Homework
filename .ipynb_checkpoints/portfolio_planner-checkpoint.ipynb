{
 "cells": [
  {
   "cell_type": "code",
   "execution_count": 1,
   "metadata": {},
   "outputs": [],
   "source": [
    "import numpy as np\n",
    "import pandas as pd\n",
    "from datetime import datetime, timedelta\n",
    "import matplotlib.pyplot as plt\n",
    "%matplotlib inline"
   ]
  },
  {
   "cell_type": "code",
   "execution_count": 2,
   "metadata": {},
   "outputs": [],
   "source": [
    "np.random.seed(42)"
   ]
  },
  {
   "cell_type": "markdown",
   "metadata": {},
   "source": [
    "# Portfolio Planner\n",
    "\n",
    "In this activity, you will use the iexfinance api to grab historical data for a 60/40 portfolio using `SPY` to represent the stock portion and `AGG` to represent the bonds."
   ]
  },
  {
   "cell_type": "code",
   "execution_count": 3,
   "metadata": {},
   "outputs": [
    {
     "data": {
      "text/html": [
       "<div>\n",
       "<style scoped>\n",
       "    .dataframe tbody tr th:only-of-type {\n",
       "        vertical-align: middle;\n",
       "    }\n",
       "\n",
       "    .dataframe tbody tr th {\n",
       "        vertical-align: top;\n",
       "    }\n",
       "\n",
       "    .dataframe thead th {\n",
       "        text-align: right;\n",
       "    }\n",
       "</style>\n",
       "<table border=\"1\" class=\"dataframe\">\n",
       "  <thead>\n",
       "    <tr style=\"text-align: right;\">\n",
       "      <th></th>\n",
       "      <th>symbol</th>\n",
       "      <th>exchange</th>\n",
       "      <th>name</th>\n",
       "      <th>date</th>\n",
       "      <th>type</th>\n",
       "      <th>iexId</th>\n",
       "      <th>region</th>\n",
       "      <th>currency</th>\n",
       "      <th>isEnabled</th>\n",
       "    </tr>\n",
       "  </thead>\n",
       "  <tbody>\n",
       "    <tr>\n",
       "      <th>0</th>\n",
       "      <td>A</td>\n",
       "      <td>NYS</td>\n",
       "      <td>Agilent Technologies Inc.</td>\n",
       "      <td>2020-02-12</td>\n",
       "      <td>cs</td>\n",
       "      <td>IEX_46574843354B2D52</td>\n",
       "      <td>US</td>\n",
       "      <td>USD</td>\n",
       "      <td>True</td>\n",
       "    </tr>\n",
       "    <tr>\n",
       "      <th>1</th>\n",
       "      <td>AA</td>\n",
       "      <td>NYS</td>\n",
       "      <td>Alcoa Corp.</td>\n",
       "      <td>2020-02-12</td>\n",
       "      <td>cs</td>\n",
       "      <td>IEX_4238333734532D52</td>\n",
       "      <td>US</td>\n",
       "      <td>USD</td>\n",
       "      <td>True</td>\n",
       "    </tr>\n",
       "    <tr>\n",
       "      <th>2</th>\n",
       "      <td>AAAU</td>\n",
       "      <td>PSE</td>\n",
       "      <td>Perth Mint Physical Gold ETF</td>\n",
       "      <td>2020-02-12</td>\n",
       "      <td>et</td>\n",
       "      <td>IEX_474B433136332D52</td>\n",
       "      <td>US</td>\n",
       "      <td>USD</td>\n",
       "      <td>True</td>\n",
       "    </tr>\n",
       "    <tr>\n",
       "      <th>3</th>\n",
       "      <td>AACG</td>\n",
       "      <td>NAS</td>\n",
       "      <td>ATA Creativity Global Sponsored ADR</td>\n",
       "      <td>2020-02-12</td>\n",
       "      <td>ad</td>\n",
       "      <td>IEX_44595A4C53392D52</td>\n",
       "      <td>US</td>\n",
       "      <td>USD</td>\n",
       "      <td>True</td>\n",
       "    </tr>\n",
       "    <tr>\n",
       "      <th>4</th>\n",
       "      <td>AADR</td>\n",
       "      <td>PSE</td>\n",
       "      <td>AdvisorShares Dorsey Wright ADR ETF</td>\n",
       "      <td>2020-02-12</td>\n",
       "      <td>et</td>\n",
       "      <td>IEX_5253355435362D52</td>\n",
       "      <td>US</td>\n",
       "      <td>USD</td>\n",
       "      <td>True</td>\n",
       "    </tr>\n",
       "  </tbody>\n",
       "</table>\n",
       "</div>"
      ],
      "text/plain": [
       "  symbol exchange                                 name        date type  \\\n",
       "0      A      NYS            Agilent Technologies Inc.  2020-02-12   cs   \n",
       "1     AA      NYS                          Alcoa Corp.  2020-02-12   cs   \n",
       "2   AAAU      PSE         Perth Mint Physical Gold ETF  2020-02-12   et   \n",
       "3   AACG      NAS  ATA Creativity Global Sponsored ADR  2020-02-12   ad   \n",
       "4   AADR      PSE  AdvisorShares Dorsey Wright ADR ETF  2020-02-12   et   \n",
       "\n",
       "                  iexId region currency  isEnabled  \n",
       "0  IEX_46574843354B2D52     US      USD       True  \n",
       "1  IEX_4238333734532D52     US      USD       True  \n",
       "2  IEX_474B433136332D52     US      USD       True  \n",
       "3  IEX_44595A4C53392D52     US      USD       True  \n",
       "4  IEX_5253355435362D52     US      USD       True  "
      ]
     },
     "execution_count": 3,
     "metadata": {},
     "output_type": "execute_result"
    }
   ],
   "source": [
    "from iexfinance.stocks import get_historical_data\n",
    "import iexfinance as iex\n",
    "from iexfinance.refdata import get_symbols\n",
    "\n",
    "tickers = pd.DataFrame(get_symbols())\n",
    "tickers.head()"
   ]
  },
  {
   "cell_type": "code",
   "execution_count": 10,
   "metadata": {},
   "outputs": [
    {
     "ename": "SyntaxError",
     "evalue": "invalid syntax (<ipython-input-10-993ee5bb2ed5>, line 1)",
     "output_type": "error",
     "traceback": [
      "\u001b[1;36m  File \u001b[1;32m\"<ipython-input-10-993ee5bb2ed5>\"\u001b[1;36m, line \u001b[1;32m1\u001b[0m\n\u001b[1;33m    http://finance.yahoo.com/q?s=AAPL\u001b[0m\n\u001b[1;37m          ^\u001b[0m\n\u001b[1;31mSyntaxError\u001b[0m\u001b[1;31m:\u001b[0m invalid syntax\n"
     ]
    }
   ],
   "source": [
    "http://finance.yahoo.com/q?s=AAPL"
   ]
  },
  {
   "cell_type": "markdown",
   "metadata": {},
   "source": [
    "# Data Collection\n",
    "\n",
    "In this step, you will need to use the IEX api to fetch closing prices for the `SPY` and `AGG` tickers. Save the results as a pandas DataFrame"
   ]
  },
  {
   "cell_type": "code",
   "execution_count": 4,
   "metadata": {},
   "outputs": [
    {
     "data": {
      "text/html": [
       "<div>\n",
       "<style scoped>\n",
       "    .dataframe tbody tr th:only-of-type {\n",
       "        vertical-align: middle;\n",
       "    }\n",
       "\n",
       "    .dataframe tbody tr th {\n",
       "        vertical-align: top;\n",
       "    }\n",
       "\n",
       "    .dataframe thead tr th {\n",
       "        text-align: left;\n",
       "    }\n",
       "\n",
       "    .dataframe thead tr:last-of-type th {\n",
       "        text-align: right;\n",
       "    }\n",
       "</style>\n",
       "<table border=\"1\" class=\"dataframe\">\n",
       "  <thead>\n",
       "    <tr>\n",
       "      <th></th>\n",
       "      <th>SPY</th>\n",
       "      <th>AGG</th>\n",
       "    </tr>\n",
       "    <tr>\n",
       "      <th></th>\n",
       "      <th>close</th>\n",
       "      <th>close</th>\n",
       "    </tr>\n",
       "    <tr>\n",
       "      <th>date</th>\n",
       "      <th></th>\n",
       "      <th></th>\n",
       "    </tr>\n",
       "  </thead>\n",
       "  <tbody>\n",
       "    <tr>\n",
       "      <th>2019-02-12</th>\n",
       "      <td>274.10</td>\n",
       "      <td>107.25</td>\n",
       "    </tr>\n",
       "    <tr>\n",
       "      <th>2019-02-13</th>\n",
       "      <td>274.99</td>\n",
       "      <td>107.06</td>\n",
       "    </tr>\n",
       "    <tr>\n",
       "      <th>2019-02-14</th>\n",
       "      <td>274.38</td>\n",
       "      <td>107.22</td>\n",
       "    </tr>\n",
       "    <tr>\n",
       "      <th>2019-02-15</th>\n",
       "      <td>277.37</td>\n",
       "      <td>107.30</td>\n",
       "    </tr>\n",
       "    <tr>\n",
       "      <th>2019-02-19</th>\n",
       "      <td>277.85</td>\n",
       "      <td>107.36</td>\n",
       "    </tr>\n",
       "  </tbody>\n",
       "</table>\n",
       "</div>"
      ],
      "text/plain": [
       "               SPY     AGG\n",
       "             close   close\n",
       "date                      \n",
       "2019-02-12  274.10  107.25\n",
       "2019-02-13  274.99  107.06\n",
       "2019-02-14  274.38  107.22\n",
       "2019-02-15  277.37  107.30\n",
       "2019-02-19  277.85  107.36"
      ]
     },
     "execution_count": 4,
     "metadata": {},
     "output_type": "execute_result"
    }
   ],
   "source": [
    "tickers = [\"SPY\", \"AGG\"]\n",
    "# YOUR CODE HERE\n",
    "\n",
    "end_date = datetime.now()\n",
    "start_date = end_date + timedelta(-365)\n",
    "\n",
    "df = get_historical_data(tickers, start_date, end_date, output_format = 'pandas')\n",
    "df.drop(columns=['open', 'high', 'low', 'volume'], level=1, inplace=True)\n",
    "df.head()"
   ]
  },
  {
   "cell_type": "markdown",
   "metadata": {},
   "source": [
    "# Monte Carlo Simulation\n",
    "\n",
    "In this step, you will run Monte Carlo Simulations for your portfolio to model portfolio performance at different retirement ages. \n",
    "\n",
    "Complete the following steps:\n",
    "1. Calculate the daily returns for the SPY and AGG closing prices.\n",
    "2. Calculate volatility for both the SPY and AGG closing prices.\n",
    "3. Find the last day's closing price for both stocks and save those as variables.\n",
    "4. Run a Monte Carlo Simulation of at least 500 iterations and generate at least 30 years of closing prices\n",
    "\n",
    "### HINTS:\n",
    "There are 252 trading days per year, so the number of records to generate for each Monte Carlo run will be 252 days * 30 years"
   ]
  },
  {
   "cell_type": "code",
   "execution_count": 5,
   "metadata": {},
   "outputs": [
    {
     "data": {
      "text/plain": [
       "0.0002527094752955795"
      ]
     },
     "execution_count": 5,
     "metadata": {},
     "output_type": "execute_result"
    }
   ],
   "source": [
    "# Calculate the daily roi for the stocks\n",
    "# YOUR CODE HERE\n",
    "\n",
    "daily_returns = df.pct_change()\n",
    "\n",
    "avg_daily_return_spy = daily_returns['SPY']['close'].mean()\n",
    "avg_daily_return_agg = daily_returns['AGG']['close'].mean()\n",
    "\n",
    "avg_daily_return_agg"
   ]
  },
  {
   "cell_type": "code",
   "execution_count": 7,
   "metadata": {},
   "outputs": [
    {
     "data": {
      "text/plain": [
       "0.002089524821869299"
      ]
     },
     "execution_count": 7,
     "metadata": {},
     "output_type": "execute_result"
    }
   ],
   "source": [
    "# Calculate volatility\n",
    "# YOUR CODE HERE\n",
    "\n",
    "std_dev_daily_return_spy = daily_returns['SPY']['close'].std()\n",
    "std_dev_daily_return_agg = daily_returns['AGG']['close'].std()\n",
    "\n",
    "std_dev_daily_return_agg"
   ]
  },
  {
   "cell_type": "code",
   "execution_count": 9,
   "metadata": {},
   "outputs": [
    {
     "data": {
      "text/plain": [
       "114.21"
      ]
     },
     "execution_count": 9,
     "metadata": {},
     "output_type": "execute_result"
    }
   ],
   "source": [
    "# Save the last day's closing price\n",
    "# YOUR CODE HERE\n",
    "\n",
    "spy_last_price = df['SPY']['close'][-1]\n",
    "agg_last_price = df['AGG']['close'][-1]\n",
    "\n",
    "agg_last_price"
   ]
  },
  {
   "cell_type": "code",
   "execution_count": 10,
   "metadata": {},
   "outputs": [],
   "source": [
    "# Setup the Monte Carlo Parameters\n",
    "\n",
    "number_simulations = 500\n",
    "number_trading_days = 252 * 30\n",
    "monte_carlo = pd.DataFrame()"
   ]
  },
  {
   "cell_type": "code",
   "execution_count": 11,
   "metadata": {},
   "outputs": [],
   "source": [
    "# Initialize empty DataFrame to hold simulated prices for each simulation\n",
    "\n",
    "simulated_price_df = pd.DataFrame()\n",
    "portfolio_cumulative_returns = pd.DataFrame()"
   ]
  },
  {
   "cell_type": "code",
   "execution_count": 13,
   "metadata": {},
   "outputs": [
    {
     "data": {
      "text/html": [
       "<div>\n",
       "<style scoped>\n",
       "    .dataframe tbody tr th:only-of-type {\n",
       "        vertical-align: middle;\n",
       "    }\n",
       "\n",
       "    .dataframe tbody tr th {\n",
       "        vertical-align: top;\n",
       "    }\n",
       "\n",
       "    .dataframe thead th {\n",
       "        text-align: right;\n",
       "    }\n",
       "</style>\n",
       "<table border=\"1\" class=\"dataframe\">\n",
       "  <thead>\n",
       "    <tr style=\"text-align: right;\">\n",
       "      <th></th>\n",
       "      <th>0</th>\n",
       "      <th>1</th>\n",
       "      <th>2</th>\n",
       "      <th>3</th>\n",
       "      <th>4</th>\n",
       "      <th>5</th>\n",
       "      <th>6</th>\n",
       "      <th>7</th>\n",
       "      <th>8</th>\n",
       "      <th>9</th>\n",
       "      <th>...</th>\n",
       "      <th>490</th>\n",
       "      <th>491</th>\n",
       "      <th>492</th>\n",
       "      <th>493</th>\n",
       "      <th>494</th>\n",
       "      <th>495</th>\n",
       "      <th>496</th>\n",
       "      <th>497</th>\n",
       "      <th>498</th>\n",
       "      <th>499</th>\n",
       "    </tr>\n",
       "  </thead>\n",
       "  <tbody>\n",
       "    <tr>\n",
       "      <th>0</th>\n",
       "      <td>1.000000</td>\n",
       "      <td>1.000000</td>\n",
       "      <td>1.000000</td>\n",
       "      <td>1.000000</td>\n",
       "      <td>1.000000</td>\n",
       "      <td>1.000000</td>\n",
       "      <td>1.000000</td>\n",
       "      <td>1.000000</td>\n",
       "      <td>1.000000</td>\n",
       "      <td>1.000000</td>\n",
       "      <td>...</td>\n",
       "      <td>1.000000</td>\n",
       "      <td>1.000000</td>\n",
       "      <td>1.000000</td>\n",
       "      <td>1.000000</td>\n",
       "      <td>1.000000</td>\n",
       "      <td>1.000000</td>\n",
       "      <td>1.000000</td>\n",
       "      <td>1.000000</td>\n",
       "      <td>1.000000</td>\n",
       "      <td>1.000000</td>\n",
       "    </tr>\n",
       "    <tr>\n",
       "      <th>1</th>\n",
       "      <td>1.000515</td>\n",
       "      <td>1.001759</td>\n",
       "      <td>0.999608</td>\n",
       "      <td>1.005450</td>\n",
       "      <td>1.011349</td>\n",
       "      <td>0.991563</td>\n",
       "      <td>0.994643</td>\n",
       "      <td>1.012049</td>\n",
       "      <td>1.000338</td>\n",
       "      <td>0.997060</td>\n",
       "      <td>...</td>\n",
       "      <td>1.001860</td>\n",
       "      <td>0.994672</td>\n",
       "      <td>1.000951</td>\n",
       "      <td>1.002761</td>\n",
       "      <td>0.997029</td>\n",
       "      <td>1.002324</td>\n",
       "      <td>1.002082</td>\n",
       "      <td>1.007886</td>\n",
       "      <td>0.997608</td>\n",
       "      <td>0.995715</td>\n",
       "    </tr>\n",
       "    <tr>\n",
       "      <th>2</th>\n",
       "      <td>1.007815</td>\n",
       "      <td>1.005167</td>\n",
       "      <td>1.005052</td>\n",
       "      <td>0.995782</td>\n",
       "      <td>1.008413</td>\n",
       "      <td>0.993603</td>\n",
       "      <td>0.993061</td>\n",
       "      <td>1.006877</td>\n",
       "      <td>0.999714</td>\n",
       "      <td>0.994370</td>\n",
       "      <td>...</td>\n",
       "      <td>1.005058</td>\n",
       "      <td>0.995801</td>\n",
       "      <td>1.002649</td>\n",
       "      <td>1.006010</td>\n",
       "      <td>0.996638</td>\n",
       "      <td>0.991146</td>\n",
       "      <td>1.003705</td>\n",
       "      <td>1.007568</td>\n",
       "      <td>0.996037</td>\n",
       "      <td>0.998710</td>\n",
       "    </tr>\n",
       "    <tr>\n",
       "      <th>3</th>\n",
       "      <td>1.008682</td>\n",
       "      <td>1.005054</td>\n",
       "      <td>1.003715</td>\n",
       "      <td>0.999132</td>\n",
       "      <td>1.006710</td>\n",
       "      <td>0.985428</td>\n",
       "      <td>0.995916</td>\n",
       "      <td>1.001724</td>\n",
       "      <td>1.001040</td>\n",
       "      <td>0.999138</td>\n",
       "      <td>...</td>\n",
       "      <td>1.006400</td>\n",
       "      <td>0.988744</td>\n",
       "      <td>1.002273</td>\n",
       "      <td>1.011166</td>\n",
       "      <td>0.994614</td>\n",
       "      <td>0.993425</td>\n",
       "      <td>1.007511</td>\n",
       "      <td>1.000261</td>\n",
       "      <td>0.998744</td>\n",
       "      <td>1.003876</td>\n",
       "    </tr>\n",
       "    <tr>\n",
       "      <th>4</th>\n",
       "      <td>1.012394</td>\n",
       "      <td>1.006651</td>\n",
       "      <td>1.008975</td>\n",
       "      <td>1.003127</td>\n",
       "      <td>1.012042</td>\n",
       "      <td>0.988606</td>\n",
       "      <td>1.000733</td>\n",
       "      <td>0.996938</td>\n",
       "      <td>1.000593</td>\n",
       "      <td>1.005834</td>\n",
       "      <td>...</td>\n",
       "      <td>1.003103</td>\n",
       "      <td>0.992016</td>\n",
       "      <td>1.003801</td>\n",
       "      <td>1.004102</td>\n",
       "      <td>0.994295</td>\n",
       "      <td>0.993159</td>\n",
       "      <td>1.006821</td>\n",
       "      <td>1.002865</td>\n",
       "      <td>0.997031</td>\n",
       "      <td>1.004042</td>\n",
       "    </tr>\n",
       "  </tbody>\n",
       "</table>\n",
       "<p>5 rows × 500 columns</p>\n",
       "</div>"
      ],
      "text/plain": [
       "        0         1         2         3         4         5         6    \\\n",
       "0  1.000000  1.000000  1.000000  1.000000  1.000000  1.000000  1.000000   \n",
       "1  1.000515  1.001759  0.999608  1.005450  1.011349  0.991563  0.994643   \n",
       "2  1.007815  1.005167  1.005052  0.995782  1.008413  0.993603  0.993061   \n",
       "3  1.008682  1.005054  1.003715  0.999132  1.006710  0.985428  0.995916   \n",
       "4  1.012394  1.006651  1.008975  1.003127  1.012042  0.988606  1.000733   \n",
       "\n",
       "        7         8         9    ...       490       491       492       493  \\\n",
       "0  1.000000  1.000000  1.000000  ...  1.000000  1.000000  1.000000  1.000000   \n",
       "1  1.012049  1.000338  0.997060  ...  1.001860  0.994672  1.000951  1.002761   \n",
       "2  1.006877  0.999714  0.994370  ...  1.005058  0.995801  1.002649  1.006010   \n",
       "3  1.001724  1.001040  0.999138  ...  1.006400  0.988744  1.002273  1.011166   \n",
       "4  0.996938  1.000593  1.005834  ...  1.003103  0.992016  1.003801  1.004102   \n",
       "\n",
       "        494       495       496       497       498       499  \n",
       "0  1.000000  1.000000  1.000000  1.000000  1.000000  1.000000  \n",
       "1  0.997029  1.002324  1.002082  1.007886  0.997608  0.995715  \n",
       "2  0.996638  0.991146  1.003705  1.007568  0.996037  0.998710  \n",
       "3  0.994614  0.993425  1.007511  1.000261  0.998744  1.003876  \n",
       "4  0.994295  0.993159  1.006821  1.002865  0.997031  1.004042  \n",
       "\n",
       "[5 rows x 500 columns]"
      ]
     },
     "execution_count": 13,
     "metadata": {},
     "output_type": "execute_result"
    }
   ],
   "source": [
    "# Run the Monte Carlo Simulation\n",
    "for x in range(number_simulations):\n",
    "    # YOUR CODE HERE\n",
    "    simulated_spy_prices = [spy_last_price]\n",
    "    simulated_agg_prices = [agg_last_price]\n",
    "    \n",
    "    for i in range(number_trading_days):\n",
    "        \n",
    "        simulated_spy_price = simulated_spy_prices[-1] * (1 + np.random.normal(avg_daily_return_spy, std_dev_daily_return_spy))\n",
    "        simulated_agg_price = simulated_agg_prices[-1] * (1 + np.random.normal(avg_daily_return_agg, std_dev_daily_return_agg))\n",
    "        \n",
    "        simulated_spy_prices.append(simulated_spy_price)\n",
    "        simulated_agg_prices.append(simulated_agg_price)\n",
    "        \n",
    "    simulated_price_df['SPY prices'] = pd.Series(simulated_spy_prices)\n",
    "    simulated_price_df['AGG prices'] = pd.Series(simulated_agg_prices)\n",
    "    \n",
    "    simulated_daily_returns = simulated_price_df.pct_change()\n",
    "    \n",
    "    weights = [0.6, 0.4]\n",
    "    \n",
    "    portfolio_daily_returns = simulated_daily_returns.dot(weights)\n",
    "    \n",
    "    portfolio_cumulative_returns[x] = (1 + portfolio_daily_returns.fillna(0)).cumprod()\n",
    "    \n",
    "portfolio_cumulative_returns.head()        "
   ]
  },
  {
   "cell_type": "code",
   "execution_count": 14,
   "metadata": {},
   "outputs": [
    {
     "data": {
      "text/plain": [
       "<matplotlib.axes._subplots.AxesSubplot at 0x266631d4608>"
      ]
     },
     "execution_count": 14,
     "metadata": {},
     "output_type": "execute_result"
    },
    {
     "data": {
      "image/png": "[encoded data removed]",
      "text/plain": [
       "<Figure size 432x288 with 1 Axes>"
      ]
     },
     "metadata": {
      "needs_background": "light"
     },
     "output_type": "display_data"
    }
   ],
   "source": [
    "# Visualize the Simulation\n",
    "# YOUR CODE HERE\n",
    "\n",
    "plot_title = f\"{x+1} Simulations of Cumulative Portfolio Return Trajectories Over the Next {number_trading_days} Trading Days\"\n",
    "portfolio_cumulative_returns.plot(legend=None, title=plot_title)"
   ]
  },
  {
   "cell_type": "code",
   "execution_count": 15,
   "metadata": {},
   "outputs": [
    {
     "data": {
      "text/plain": [
       "0    84.888484\n",
       "1    76.061399\n",
       "2    78.780183\n",
       "3    61.824341\n",
       "4    77.746620\n",
       "Name: 7560, dtype: float64"
      ]
     },
     "execution_count": 15,
     "metadata": {},
     "output_type": "execute_result"
    }
   ],
   "source": [
    "# Select the last row for the cumulative returns (cumulative returns at 30 years)\n",
    "# YOUR CODE HERE\n",
    "\n",
    "ending_cumulative_returns = portfolio_cumulative_returns.iloc[-1, :]\n",
    "ending_cumulative_returns.head()"
   ]
  },
  {
   "cell_type": "code",
   "execution_count": 28,
   "metadata": {},
   "outputs": [
    {
     "data": {
      "text/plain": [
       "0      1.0\n",
       "1      1.0\n",
       "2      1.0\n",
       "3      1.0\n",
       "4      1.0\n",
       "      ... \n",
       "495    1.0\n",
       "496    1.0\n",
       "497    1.0\n",
       "498    1.0\n",
       "499    1.0\n",
       "Name: 0, Length: 500, dtype: float64"
      ]
     },
     "execution_count": 28,
     "metadata": {},
     "output_type": "execute_result"
    }
   ],
   "source": [
    "original_returns = portfolio_cumulative_returns.iloc[0, :]\n",
    "original_returns"
   ]
  },
  {
   "cell_type": "code",
   "execution_count": 19,
   "metadata": {},
   "outputs": [
    {
     "data": {
      "text/plain": [
       "0    19.342958\n",
       "1    17.947352\n",
       "2    16.225029\n",
       "3    14.636367\n",
       "4    26.924866\n",
       "Name: 5041, dtype: float64"
      ]
     },
     "execution_count": 19,
     "metadata": {},
     "output_type": "execute_result"
    }
   ],
   "source": [
    "# Select the last row for the cumulative returns (cumulative returns at 20 years)\n",
    "# YOUR CODE HERE\n",
    "\n",
    "last_cumulative_returns_20 = portfolio_cumulative_returns.iloc[-2520, :]\n",
    "last_cumulative_returns_20.head()"
   ]
  },
  {
   "cell_type": "code",
   "execution_count": 20,
   "metadata": {},
   "outputs": [
    {
     "data": {
      "text/plain": [
       "0.1     53.186164\n",
       "0.5     87.272327\n",
       "0.9    138.983268\n",
       "Name: 7560, dtype: float64"
      ]
     },
     "execution_count": 20,
     "metadata": {},
     "output_type": "execute_result"
    }
   ],
   "source": [
    "# Display the 90% confidence interval for the ending returns\n",
    "# YOUR CODE HERE\n",
    "\n",
    "confidence_interval = ending_cumulative_returns.quantile(q=[0.1, 0.5, 0.9])\n",
    "confidence_interval"
   ]
  },
  {
   "cell_type": "code",
   "execution_count": 22,
   "metadata": {},
   "outputs": [
    {
     "data": {
      "text/plain": [
       "<matplotlib.lines.Line2D at 0x26665842f08>"
      ]
     },
     "execution_count": 22,
     "metadata": {},
     "output_type": "execute_result"
    },
    {
     "data": {
      "image/png": "[encoded data removed]",
      "text/plain": [
       "<Figure size 432x288 with 1 Axes>"
      ]
     },
     "metadata": {
      "needs_background": "light"
     },
     "output_type": "display_data"
    }
   ],
   "source": [
    "# Visualize the distribution of the ending returns\n",
    "# YOUR CODE HERE\n",
    "\n",
    "plt.figure();\n",
    "ending_cumulative_returns.plot(kind='hist', density=True, bins=10)\n",
    "plt.axvline(confidence_interval.iloc[0], color='r')\n",
    "plt.axvline(confidence_interval.iloc[2], color='r')"
   ]
  },
  {
   "cell_type": "markdown",
   "metadata": {},
   "source": [
    "---"
   ]
  },
  {
   "cell_type": "markdown",
   "metadata": {},
   "source": [
    "# Retirement Analysis\n",
    "\n",
    "In this section, you will use the monte carlo model to answer the following retirement planning questions:\n",
    "\n",
    "1. What are the expected cumulative returns at 30 years for the 10th, 50th, and 90th percentiles?\n",
    "2. Given an initial investment of `$20,000`, what is the expected portfolio return in dollars at the 10th, 50th, and 90th percentiles?\n",
    "3. Given the current projected annual income from the Plaid analysis, will a 4% withdraw rate from the retirement portfolio meet or exceed that value at the 10th percentile?\n",
    "4. How would a 50% increase in the initial investment amount affect the 4% retirement withdrawal?"
   ]
  },
  {
   "cell_type": "markdown",
   "metadata": {},
   "source": [
    "### What are the expected cumulative returns at 30 years for the 10th, 50th, and 90th percentiles?"
   ]
  },
  {
   "cell_type": "code",
   "execution_count": 39,
   "metadata": {},
   "outputs": [
    {
     "name": "stdout",
     "output_type": "stream",
     "text": [
      "The expected cumulative returns at 30 years for the 10th percentile is 5319.0%, for the 50th percentile it is 8727.0%, and for the 90th percentile it is 13897.999999999998%.\n"
     ]
    }
   ],
   "source": [
    "# YOUR CODE HERE\n",
    "\n",
    "round(confidence_interval.iloc[0], 2)\n",
    "\n",
    "print(f\"The expected cumulative returns at 30 years for the 10th percentile is {(round(confidence_interval.iloc[0], 2)) * 100}%, \"\n",
    "      f\"for the 50th percentile it is {(round(confidence_interval.iloc[1], 2) * 100)}%, and for the 90th percentile it is \"\n",
    "      f\"{(round(confidence_interval.iloc[2], 2) * 100)}%.\")"
   ]
  },
  {
   "cell_type": "markdown",
   "metadata": {},
   "source": [
    "### Given an initial investment of `$20,000`, what is the expected portfolio return in dollars at the 10th, 50th, and 90th percentiles?"
   ]
  },
  {
   "cell_type": "code",
   "execution_count": 32,
   "metadata": {},
   "outputs": [
    {
     "name": "stdout",
     "output_type": "stream",
     "text": [
      "There is a 90% chance that an initial investment of $20000 in the portfolio over the next 7560 days will end within the range of $1063723.28, $1745446.55, and $2779665.35.\n"
     ]
    }
   ],
   "source": [
    "# YOUR CODE HERE\n",
    "\n",
    "initial_investment = 20_000\n",
    "\n",
    "investment_pnl_lower_bound = round(initial_investment * confidence_interval.iloc[0], 2)\n",
    "investment_pnl_mean_bound = round(initial_investment * confidence_interval.iloc[1], 2)\n",
    "investment_pnl_upper_bound = round(initial_investment * confidence_interval.iloc[2], 2)\n",
    "\n",
    "print(f\"There is a 90% chance that an initial investment of ${initial_investment} in the portfolio \"\n",
    "     f\"over the next {number_trading_days} days will end within the range of ${investment_pnl_lower_bound}, \"\n",
    "     f\"${investment_pnl_mean_bound}, and ${investment_pnl_upper_bound}.\")"
   ]
  },
  {
   "cell_type": "markdown",
   "metadata": {},
   "source": [
    "### Given the current projected annual income from the Plaid analysis, will a 4% withdraw rate from the retirement portfolio meet or exceed that value at the 10th percentile?\n",
    "\n",
    "Note: This is effectively saying that 90% of the expected returns will be greater than the return at the 10th percentile, so this can help measure the uncertainty about having enough funds at retirement"
   ]
  },
  {
   "cell_type": "code",
   "execution_count": 75,
   "metadata": {},
   "outputs": [
    {
     "name": "stdout",
     "output_type": "stream",
     "text": [
      "111186.61\n",
      "174768.37\n",
      "\n",
      "\n",
      "The 10th percentile investment return is greater that the 4% retirement payout.\n"
     ]
    }
   ],
   "source": [
    "# YOUR CODE HERE\n",
    "\n",
    "plaid_projected_net_income = 82149.36\n",
    "\n",
    "withdraw_4 = round(investment_pnl_upper_bound * .04, 2)\n",
    "print(withdraw_4)\n",
    "payout_10th = round((plaid_projected_net_income * .04) * confidence_interval.iloc[0], 2)\n",
    "print(payout_10th)\n",
    "print(\"\\n\")\n",
    "\n",
    "if withdraw_4 > payout_10th:\n",
    "    print(\"The 4% retirement payout is greater than the 10th percentile investment return.\")\n",
    "else:\n",
    "    print(\"The 10th percentile investment return is greater that the 4% retirement payout.\")"
   ]
  },
  {
   "cell_type": "markdown",
   "metadata": {},
   "source": [
    "### How would a 50% increase in the initial investment amount affect the 4% retirement withdrawal?"
   ]
  },
  {
   "cell_type": "code",
   "execution_count": 76,
   "metadata": {},
   "outputs": [
    {
     "name": "stdout",
     "output_type": "stream",
     "text": [
      "166779.92\n",
      "174768.37\n",
      "\n",
      "\n",
      "The 10th percentile investment return is greater that the 4% retirement payout.\n"
     ]
    }
   ],
   "source": [
    "# YOUR CODE HERE\n",
    "\n",
    "plaid_projected_net_income = 82149.36\n",
    "\n",
    "withdraw_4 = round((investment_pnl_upper_bound * 1.5) * .04, 2)\n",
    "print(withdraw_4)\n",
    "payout_10th = round((plaid_projected_net_income * .04) * confidence_interval.iloc[0], 2)\n",
    "print(payout_10th)\n",
    "print(\"\\n\")\n",
    "\n",
    "if withdraw_4 > payout_10th:\n",
    "    print(\"The 4% retirement payout is greater than the 10th percentile investment return.\")\n",
    "else:\n",
    "    print(\"The 10th percentile investment return is greater that the 4% retirement payout.\")"
   ]
  },
  {
   "cell_type": "markdown",
   "metadata": {},
   "source": [
    "### Optional Challenge\n",
    "\n",
    "In this section, you will calculate and plot the cumulative returns for the median and 90% confidence intervals. This plot shows the expected cumulative returns for any given day between the first day and the last day of investment. "
   ]
  },
  {
   "cell_type": "code",
   "execution_count": null,
   "metadata": {},
   "outputs": [],
   "source": [
    "# YOUR CODE HERE"
   ]
  }
 ],
 "metadata": {
  "kernel_info": {
   "name": "dev"
  },
  "kernelspec": {
   "display_name": "Python 3",
   "language": "python",
   "name": "python3"
  },
  "language_info": {
   "codemirror_mode": {
    "name": "ipython",
    "version": 3
   },
   "file_extension": ".py",
   "mimetype": "text/x-python",
   "name": "python",
   "nbconvert_exporter": "python",
   "pygments_lexer": "ipython3",
   "version": "3.7.4"
  },
  "nteract": {
   "version": "0.12.3"
  }
 },
 "nbformat": 4,
 "nbformat_minor": 4
}
